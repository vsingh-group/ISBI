{
 "cells": [
  {
   "cell_type": "code",
   "execution_count": 1,
   "metadata": {},
   "outputs": [],
   "source": [
    "import numpy as np\n",
    "\n",
    "import torch\n",
    "import torch.nn as nn\n",
    "import torch.optim as optim\n",
    "\n",
    "from numpy import genfromtxt\n",
    "from torchdiffeq import odeint\n",
    "import matplotlib.pyplot as plt\n",
    "\n",
    "import scipy\n",
    "import csv\n",
    "import pandas as pd\n",
    "import networkx as nx\n",
    "import os\n",
    "import random"
   ]
  },
  {
   "cell_type": "code",
   "execution_count": 12,
   "metadata": {},
   "outputs": [],
   "source": [
    "# load random permutation testing result for distance between apoe+/- subjects\n",
    "data_l = []\n",
    "\n",
    "# open file and read the content in a list\n",
    "with open('LOSS_M_list_group_10000.txt', 'r') as filehandle:\n",
    "    filecontents = filehandle.readlines()\n",
    "\n",
    "    for line in filecontents:\n",
    "        # remove linebreak which is the last character of the string\n",
    "        current_place = line[:-1]\n",
    "\n",
    "        # add item to the list\n",
    "        data_l.append(current_place)"
   ]
  },
  {
   "cell_type": "code",
   "execution_count": 13,
   "metadata": {},
   "outputs": [],
   "source": [
    "data_float = list(map(float, data_l))"
   ]
  },
  {
   "cell_type": "code",
   "execution_count": 14,
   "metadata": {},
   "outputs": [
    {
     "data": {
      "image/png": "[encoded data removed]",
      "text/plain": [
       "<Figure size 432x288 with 1 Axes>"
      ]
     },
     "metadata": {
      "needs_background": "light"
     },
     "output_type": "display_data"
    }
   ],
   "source": [
    "from scipy.stats import gaussian_kde\n",
    "plt.rcParams.update({'font.size': 16,'xtick.major.width'   : 1,'ytick.major.width'   : 1,'axes.linewidth' : 1})\n",
    "#plt.style.use('seaborn-whitegrid')\n",
    "bins = 100\n",
    "alpha = 0.05\n",
    "\n",
    "dW = data_float\n",
    "dW0 = data_float[0]\n",
    "\n",
    "density = gaussian_kde(dW)\n",
    "xs = np.linspace(0,np.max(data_float),bins)\n",
    "density.covariance_factor = lambda : .25\n",
    "density._compute_covariance()\n",
    "ys = density(xs)/np.sum(density(xs))\n",
    "y0 = 0.\n",
    "for i,y in enumerate(ys):\n",
    "    y0 = y0+y\n",
    "    if y0>(1-alpha):\n",
    "        break\n",
    "\n",
    "\n",
    "bound = xs[i]\n",
    "fig, ax = plt.subplots()\n",
    "plt.tight_layout()\n",
    "ax.plot(xs,ys,color = 'b',label = \"Distribution\")\n",
    "#plt.plot([x], [y], marker='o', markersize=3, color=\"red\",label=\"Real distance\")\n",
    "#plt.vlines(dW0,0,0.025,color = 'g',label=\"Real distance\")\n",
    "plt.xlim(0,np.max(data_float))\n",
    "plt.ylim(0, 0.065)\n",
    "#plt.title(\"Hypothesis Testing\")\n",
    "plt.xlabel(\"Distance\")\n",
    "plt.ylabel(\"Probability\")\n",
    "# plt.fill_between(xs,\n",
    "#                  ys,\n",
    "#                  where=(0<=xs) & (xs<=dW0),\n",
    "#                  facecolor='b')\n",
    "plt.fill_between(xs,\n",
    "                 ys,\n",
    "                 where=(xs>=bound),\n",
    "                 facecolor='r')\n",
    "s = ax.scatter(dW0, 0.0011, marker='o', color=\"g\",s =90,label=\"Real distance\")\n",
    "ax.legend()\n",
    "ax.grid('false')\n",
    "plt.savefig(\"Survive.eps\")\n",
    "plt.show()"
   ]
  },
  {
   "cell_type": "code",
   "execution_count": 15,
   "metadata": {},
   "outputs": [],
   "source": [
    "pvalue = 0\n",
    "for i in range(0, len(xs)):\n",
    "    if xs[i] > data_float[0]:\n",
    "        pvalue = pvalue  + ys[i]"
   ]
  },
  {
   "cell_type": "code",
   "execution_count": 16,
   "metadata": {},
   "outputs": [
    {
     "data": {
      "text/plain": [
       "0.0046671915369841"
      ]
     },
     "execution_count": 16,
     "metadata": {},
     "output_type": "execute_result"
    }
   ],
   "source": [
    "pvalue"
   ]
  },
  {
   "cell_type": "code",
   "execution_count": 17,
   "metadata": {},
   "outputs": [
    {
     "data": {
      "text/plain": [
       "4.159243e-08"
      ]
     },
     "execution_count": 17,
     "metadata": {},
     "output_type": "execute_result"
    }
   ],
   "source": [
    "np.max(data_float)"
   ]
  }
 ],
 "metadata": {
  "kernelspec": {
   "display_name": "Python 3",
   "language": "python",
   "name": "python3"
  },
  "language_info": {
   "codemirror_mode": {
    "name": "ipython",
    "version": 3
   },
   "file_extension": ".py",
   "mimetype": "text/x-python",
   "name": "python",
   "nbconvert_exporter": "python",
   "pygments_lexer": "ipython3",
   "version": "3.7.1"
  }
 },
 "nbformat": 4,
 "nbformat_minor": 2
}
